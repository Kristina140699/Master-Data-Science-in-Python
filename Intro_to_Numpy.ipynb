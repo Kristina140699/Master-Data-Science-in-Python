{
  "nbformat": 4,
  "nbformat_minor": 0,
  "metadata": {
    "colab": {
      "provenance": [],
      "authorship_tag": "ABX9TyPtW9+KZ1zxAgaufM5NB7n1",
      "include_colab_link": true
    },
    "kernelspec": {
      "name": "python3",
      "display_name": "Python 3"
    },
    "language_info": {
      "name": "python"
    }
  },
  "cells": [
    {
      "cell_type": "markdown",
      "metadata": {
        "id": "view-in-github",
        "colab_type": "text"
      },
      "source": [
        "<a href=\"https://colab.research.google.com/github/Kristina140699/Master-Data-Science-in-Python/blob/main/Intro_to_Numpy.ipynb\" target=\"_parent\"><img src=\"https://colab.research.google.com/assets/colab-badge.svg\" alt=\"Open In Colab\"/></a>"
      ]
    },
    {
      "cell_type": "code",
      "execution_count": null,
      "metadata": {
        "id": "EfU4EbArQaCK"
      },
      "outputs": [],
      "source": []
    },
    {
      "cell_type": "markdown",
      "source": [
        "# Numpy Arrays\n",
        "## Single Dimensional Array"
      ],
      "metadata": {
        "id": "Tog0oT7XQyf_"
      }
    },
    {
      "cell_type": "code",
      "source": [
        "import numpy as np\n",
        "n1 = np.array([10, 20, 30, 40, 50])\n",
        "n1"
      ],
      "metadata": {
        "colab": {
          "base_uri": "https://localhost:8080/"
        },
        "id": "mTxDHWTBQ8F0",
        "outputId": "3b876b3c-5230-464e-db99-14035eb5e947"
      },
      "execution_count": 2,
      "outputs": [
        {
          "output_type": "execute_result",
          "data": {
            "text/plain": [
              "array([10, 20, 30, 40, 50])"
            ]
          },
          "metadata": {},
          "execution_count": 2
        }
      ]
    },
    {
      "cell_type": "code",
      "source": [
        "type(n1)"
      ],
      "metadata": {
        "colab": {
          "base_uri": "https://localhost:8080/"
        },
        "id": "1qAJS20mReAk",
        "outputId": "e7e8a850-578f-4488-cf06-23c8e8211375"
      },
      "execution_count": 2,
      "outputs": [
        {
          "output_type": "execute_result",
          "data": {
            "text/plain": [
              "numpy.ndarray"
            ]
          },
          "metadata": {},
          "execution_count": 2
        }
      ]
    },
    {
      "cell_type": "markdown",
      "source": [
        "## Multi Dimensional Array"
      ],
      "metadata": {
        "id": "_hiHQf45Rg2Y"
      }
    },
    {
      "cell_type": "code",
      "source": [
        "n2 = np.array([[1,2,3,4,5],[11, 12, 13, 14, 15],[10, 20, 30, 40, 50]])\n",
        "n2"
      ],
      "metadata": {
        "id": "ev357ihURmTC",
        "colab": {
          "base_uri": "https://localhost:8080/"
        },
        "outputId": "6a61b9df-85c1-40bd-a83e-dc14e36789ce"
      },
      "execution_count": 7,
      "outputs": [
        {
          "output_type": "execute_result",
          "data": {
            "text/plain": [
              "array([[ 1,  2,  3,  4,  5],\n",
              "       [11, 12, 13, 14, 15],\n",
              "       [10, 20, 30, 40, 50]])"
            ]
          },
          "metadata": {},
          "execution_count": 7
        }
      ]
    },
    {
      "cell_type": "code",
      "source": [
        "type(n2)"
      ],
      "metadata": {
        "id": "b5m23TyPR6xL",
        "colab": {
          "base_uri": "https://localhost:8080/"
        },
        "outputId": "9f5f0d53-54aa-4e62-b51e-2e467c560072"
      },
      "execution_count": 8,
      "outputs": [
        {
          "output_type": "execute_result",
          "data": {
            "text/plain": [
              "numpy.ndarray"
            ]
          },
          "metadata": {},
          "execution_count": 8
        }
      ]
    },
    {
      "cell_type": "markdown",
      "source": [
        "## Zero Arrays"
      ],
      "metadata": {
        "id": "qCVmwB04nkNe"
      }
    },
    {
      "cell_type": "code",
      "source": [
        "n0 = np.zeros((5,2))\n",
        "n0"
      ],
      "metadata": {
        "colab": {
          "base_uri": "https://localhost:8080/"
        },
        "id": "5JSg8HJ-njS-",
        "outputId": "776d8d53-81e4-4b72-c8fb-73033c4f2d7c"
      },
      "execution_count": 5,
      "outputs": [
        {
          "output_type": "execute_result",
          "data": {
            "text/plain": [
              "array([[0., 0.],\n",
              "       [0., 0.],\n",
              "       [0., 0.],\n",
              "       [0., 0.],\n",
              "       [0., 0.]])"
            ]
          },
          "metadata": {},
          "execution_count": 5
        }
      ]
    },
    {
      "cell_type": "markdown",
      "source": [
        "## Numpy array with same number"
      ],
      "metadata": {
        "id": "LGp-HK61o7MV"
      }
    },
    {
      "cell_type": "code",
      "source": [
        "n4 = np.full((2,3), 14)\n",
        "n4"
      ],
      "metadata": {
        "colab": {
          "base_uri": "https://localhost:8080/"
        },
        "id": "5pqVX9PDpDdm",
        "outputId": "52d3af06-b874-484d-8b66-4df965071a58"
      },
      "execution_count": 7,
      "outputs": [
        {
          "output_type": "execute_result",
          "data": {
            "text/plain": [
              "array([[14, 14, 14],\n",
              "       [14, 14, 14]])"
            ]
          },
          "metadata": {},
          "execution_count": 7
        }
      ]
    },
    {
      "cell_type": "markdown",
      "source": [
        "## Numpy array within a range"
      ],
      "metadata": {
        "id": "FoPqFQNKrMT1"
      }
    },
    {
      "cell_type": "code",
      "source": [
        "n5 = np.arange(10, 20) #this prints all the numbers including 10 and excluding 20\n",
        "n5"
      ],
      "metadata": {
        "colab": {
          "base_uri": "https://localhost:8080/"
        },
        "id": "qb84YGBKn2Gv",
        "outputId": "6052e349-0c74-449b-f227-6db55c4aadee"
      },
      "execution_count": 9,
      "outputs": [
        {
          "output_type": "execute_result",
          "data": {
            "text/plain": [
              "array([10, 11, 12, 13, 14, 15, 16, 17, 18, 19])"
            ]
          },
          "metadata": {},
          "execution_count": 9
        }
      ]
    },
    {
      "cell_type": "code",
      "source": [
        "n5 = np.arange(15, 65, 5) # here 5 is the step/ interval after which the numbers will be printed.\n",
        "n5"
      ],
      "metadata": {
        "colab": {
          "base_uri": "https://localhost:8080/"
        },
        "id": "KJCKeEi3rhFP",
        "outputId": "b35b1a15-b030-4501-d379-6c062ad0521b"
      },
      "execution_count": 10,
      "outputs": [
        {
          "output_type": "execute_result",
          "data": {
            "text/plain": [
              "array([15, 20, 25, 30, 35, 40, 45, 50, 55, 60])"
            ]
          },
          "metadata": {},
          "execution_count": 10
        }
      ]
    },
    {
      "cell_type": "markdown",
      "source": [
        "## Numpy array with random numbers"
      ],
      "metadata": {
        "id": "rww_2rfWtZ5Z"
      }
    },
    {
      "cell_type": "code",
      "source": [
        "n6 = np.random.randint(50, 250, 5)\n",
        "n6"
      ],
      "metadata": {
        "colab": {
          "base_uri": "https://localhost:8080/"
        },
        "id": "l3NvX9GZtkjZ",
        "outputId": "3466fb0e-53d3-4b85-d074-4021b064ece5"
      },
      "execution_count": 13,
      "outputs": [
        {
          "output_type": "execute_result",
          "data": {
            "text/plain": [
              "array([125, 209, 106, 188, 236])"
            ]
          },
          "metadata": {},
          "execution_count": 13
        }
      ]
    },
    {
      "cell_type": "markdown",
      "source": [
        "## Shape of Numpy array"
      ],
      "metadata": {
        "id": "IIWUNnBVx96v"
      }
    },
    {
      "cell_type": "code",
      "source": [
        "n7 = np.array([[1,2,3], [4,5,6]])\n",
        "n7"
      ],
      "metadata": {
        "colab": {
          "base_uri": "https://localhost:8080/"
        },
        "id": "c2DBLI4nzLe4",
        "outputId": "cb1dc998-fc29-4c39-8f8a-ddf8e4c156c1"
      },
      "execution_count": 18,
      "outputs": [
        {
          "output_type": "execute_result",
          "data": {
            "text/plain": [
              "array([[1, 2, 3],\n",
              "       [4, 5, 6]])"
            ]
          },
          "metadata": {},
          "execution_count": 18
        }
      ]
    },
    {
      "cell_type": "code",
      "source": [
        "n7.shape"
      ],
      "metadata": {
        "colab": {
          "base_uri": "https://localhost:8080/"
        },
        "id": "pY-Lp0eA0AQl",
        "outputId": "7ac514c9-cf99-4844-a79e-d093fc8f9fee"
      },
      "execution_count": 19,
      "outputs": [
        {
          "output_type": "execute_result",
          "data": {
            "text/plain": [
              "(2, 3)"
            ]
          },
          "metadata": {},
          "execution_count": 19
        }
      ]
    },
    {
      "cell_type": "code",
      "source": [
        "n7.shape = (3, 2)\n",
        "n7"
      ],
      "metadata": {
        "colab": {
          "base_uri": "https://localhost:8080/"
        },
        "id": "LQ3TWFZNzz69",
        "outputId": "2abb7860-dc85-471c-b6e3-f693424326c7"
      },
      "execution_count": 20,
      "outputs": [
        {
          "output_type": "execute_result",
          "data": {
            "text/plain": [
              "array([[1, 2],\n",
              "       [3, 4],\n",
              "       [5, 6]])"
            ]
          },
          "metadata": {},
          "execution_count": 20
        }
      ]
    }
  ]
}